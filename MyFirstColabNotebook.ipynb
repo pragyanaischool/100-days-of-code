{
  "nbformat": 4,
  "nbformat_minor": 0,
  "metadata": {
    "colab": {
      "name": "MyFirstColabNotebook.ipynb",
      "provenance": [],
      "authorship_tag": "ABX9TyOERW0S1iV5FWBxwqZolkuo",
      "include_colab_link": true
    },
    "kernelspec": {
      "name": "python3",
      "display_name": "Python 3"
    },
    "language_info": {
      "name": "python"
    }
  },
  "cells": [
    {
      "cell_type": "markdown",
      "metadata": {
        "id": "view-in-github",
        "colab_type": "text"
      },
      "source": [
        "<a href=\"https://colab.research.google.com/github/pragyanaischool/100-days-of-code/blob/master/MyFirstColabNotebook.ipynb\" target=\"_parent\"><img src=\"https://colab.research.google.com/assets/colab-badge.svg\" alt=\"Open In Colab\"/></a>"
      ]
    },
    {
      "cell_type": "code",
      "execution_count": null,
      "metadata": {
        "colab": {
          "base_uri": "https://localhost:8080/"
        },
        "id": "w7xZ-2yA1P0O",
        "outputId": "65c1eba5-cb61-49b8-b53e-88574d122c53"
      },
      "outputs": [
        {
          "output_type": "stream",
          "name": "stdout",
          "text": [
            " Welcome to Pragyan AI\n"
          ]
        }
      ],
      "source": [
        "print(\" Welcome to Pragyan AI\")"
      ]
    },
    {
      "cell_type": "code",
      "source": [
        "import math\n",
        "\n",
        "radius = 10\n",
        "\n",
        "circle_area = math.pi * (radius **2) \n",
        "\n",
        "circle_area"
      ],
      "metadata": {
        "colab": {
          "base_uri": "https://localhost:8080/"
        },
        "id": "qONRDeCZFLaa",
        "outputId": "b6e6650a-59c4-43f2-aa3f-4eb869a2f7c7"
      },
      "execution_count": null,
      "outputs": [
        {
          "output_type": "execute_result",
          "data": {
            "text/plain": [
              "314.1592653589793"
            ]
          },
          "metadata": {},
          "execution_count": 2
        }
      ]
    },
    {
      "cell_type": "markdown",
      "source": [
        "This is **bold**. \n",
        "\n",
        "This is *italic*. \n",
        "\n",
        "This is ~strikethrough~. \n"
      ],
      "metadata": {
        "id": "441-TODKSHV5"
      }
    },
    {
      "cell_type": "markdown",
      "source": [
        "I love supporting the **[EFF](https://eff.org)**.\n",
        "\n",
        "This is the *[Markdown Guide](https://www.markdownguide.org)*.\n",
        "\n",
        "See the section on [`code`](#code).\n"
      ],
      "metadata": {
        "id": "s6QTXitArI0x"
      }
    },
    {
      "cell_type": "code",
      "source": [
        ""
      ],
      "metadata": {
        "id": "NNB6NBQ83v9r"
      },
      "execution_count": null,
      "outputs": []
    },
    {
      "cell_type": "markdown",
      "source": [
        "![link text](https://drive.google.com/uc?id=1-dyVWIdzSWI3xylperXqUIixToTJMaor)\n",
        "\n"
      ],
      "metadata": {
        "id": "P9nGS9dt3Z-V"
      }
    },
    {
      "cell_type": "markdown",
      "source": [
        "$\\sqrt{3x-1}+(1+x)^2$"
      ],
      "metadata": {
        "id": "n5Bvv7Gj4rLL"
      }
    },
    {
      "cell_type": "markdown",
      "source": [
        "$e^x=\\sum_{i=0}^\\infty \\frac{1}{i!}x^i$"
      ],
      "metadata": {
        "id": "3rblgMeA5OKx"
      }
    },
    {
      "cell_type": "markdown",
      "source": [
        "Constraints are\n",
        " - $3x_1 + 6x_2 + x_3 =< 28$\n",
        " - $7x_1 + 3x_2 + 2x_3 =< 37$\n",
        " - $4x_1 + 5x_2 + 2x_3 =< 19$\n",
        " - $x_1,x_2,x_3 >=0 $\n",
        "The trial vector is calculated as follows:\n",
        "- $u_i(t) = x_i(t) + \\beta(\\hat{x}(t) − x_i(t)) + \\beta \\sum_{k = 1}^{n\n",
        " _v}(x_{i1,k}(t) − x_{i2,k}(t))$ \n",
        "\n",
        " $f(x_1, x_2) = 20 + e - 20exp(-0.2 \\sqrt {\\frac {1}{n} (x_1^2 + x_2^2)}) - exp\n",
        "(\\frac {1}{n}(cos(2\\pi x_1) + cos(2\\pi x_2))$\n",
        "$x ∈ [-5, 5]$\n",
        ">$A_{m,n} =\n",
        "\\begin{pmatrix}\n",
        " a_{1,1} & a_{1,2} & \\cdots & a_{1,n} \\\\\n",
        " a_{2,1} & a_{2,2} & \\cdots & a_{2,n} \\\\\n",
        " \\vdots & \\vdots & \\ddots & \\vdots \\\\\n",
        " a_{m,1} & a_{m,2} & \\cdots & a_{m,n}\n",
        "\\end{pmatrix}$"
      ],
      "metadata": {
        "id": "Wk1QqJzQ5djX"
      }
    }
  ]
}